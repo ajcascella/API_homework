{
 "cells": [
  {
   "cell_type": "code",
   "execution_count": 2,
   "metadata": {},
   "outputs": [],
   "source": [
    "# Dependencies and Setup\n",
    "import matplotlib.pyplot as plt\n",
    "import pandas as pd\n",
    "import numpy as np\n",
    "import requests\n",
    "import time\n",
    "import json\n",
    "\n",
    "# Import API key\n",
    "from api_keys import api_key\n",
    "\n",
    "# Incorporated citipy to determine city based on latitude and longitude\n",
    "from citipy import citipy\n",
    "\n",
    "# Output File (CSV)\n",
    "output_data_file = \"output_data/cities.csv\"\n",
    "\n",
    "# Range of latitudes and longitudes\n",
    "lat_range = (-90, 90)\n",
    "lng_range = (-180, 180)"
   ]
  },
  {
   "cell_type": "markdown",
   "metadata": {},
   "source": [
    "## Generate Cities List"
   ]
  },
  {
   "cell_type": "code",
   "execution_count": 3,
   "metadata": {},
   "outputs": [],
   "source": [
    "# List for holding lat_lngs and cities\n",
    "lat_lngs = []\n",
    "cities = []\n",
    "\n",
    "# Create a set of random lat and lng combinations\n",
    "lats = np.random.uniform(low=-90.000, high=90.000, size=1500)\n",
    "lngs = np.random.uniform(low=-180.000, high=180.000, size=1500)\n",
    "lat_lngs = zip(lats, lngs)\n",
    "\n",
    "# Identify nearest city for each lat, lng combination\n",
    "for lat_lng in lat_lngs:\n",
    "    city = citipy.nearest_city(lat_lng[0], lat_lng[1]).city_name\n",
    "    \n",
    "    # If the city is unique, then add it to a our cities list\n",
    "    if city not in cities:\n",
    "        cities.append(city)"
   ]
  },
  {
   "cell_type": "code",
   "execution_count": 4,
   "metadata": {},
   "outputs": [
    {
     "data": {
      "text/plain": [
       "592"
      ]
     },
     "execution_count": 4,
     "metadata": {},
     "output_type": "execute_result"
    }
   ],
   "source": [
    "# Print the city count to confirm sufficient count\n",
    "len(cities)"
   ]
  },
  {
   "cell_type": "code",
   "execution_count": null,
   "metadata": {},
   "outputs": [
    {
     "data": {
      "text/html": [
       "<div>\n",
       "<style scoped>\n",
       "    .dataframe tbody tr th:only-of-type {\n",
       "        vertical-align: middle;\n",
       "    }\n",
       "\n",
       "    .dataframe tbody tr th {\n",
       "        vertical-align: top;\n",
       "    }\n",
       "\n",
       "    .dataframe thead th {\n",
       "        text-align: right;\n",
       "    }\n",
       "</style>\n",
       "<table border=\"1\" class=\"dataframe\">\n",
       "  <thead>\n",
       "    <tr style=\"text-align: right;\">\n",
       "      <th></th>\n",
       "      <th>city</th>\n",
       "    </tr>\n",
       "  </thead>\n",
       "  <tbody>\n",
       "    <tr>\n",
       "      <th>0</th>\n",
       "      <td>rocha</td>\n",
       "    </tr>\n",
       "    <tr>\n",
       "      <th>1</th>\n",
       "      <td>egvekinot</td>\n",
       "    </tr>\n",
       "    <tr>\n",
       "      <th>2</th>\n",
       "      <td>mataura</td>\n",
       "    </tr>\n",
       "    <tr>\n",
       "      <th>3</th>\n",
       "      <td>khartoum</td>\n",
       "    </tr>\n",
       "    <tr>\n",
       "      <th>4</th>\n",
       "      <td>vila do maio</td>\n",
       "    </tr>\n",
       "  </tbody>\n",
       "</table>\n",
       "</div>"
      ],
      "text/plain": [
       "           city\n",
       "0         rocha\n",
       "1     egvekinot\n",
       "2       mataura\n",
       "3      khartoum\n",
       "4  vila do maio"
      ]
     },
     "execution_count": 5,
     "metadata": {},
     "output_type": "execute_result"
    }
   ],
   "source": [
    "# Convert city list to dataframe and rename column to \"city\"\n",
    "cities_df = pd.DataFrame(cities)\n",
    "cities_df.columns = [\"city\"]\n",
    "cities_df.head()"
   ]
  },
  {
   "cell_type": "code",
   "execution_count": null,
   "metadata": {},
   "outputs": [
    {
     "data": {
      "text/html": [
       "<div>\n",
       "<style scoped>\n",
       "    .dataframe tbody tr th:only-of-type {\n",
       "        vertical-align: middle;\n",
       "    }\n",
       "\n",
       "    .dataframe tbody tr th {\n",
       "        vertical-align: top;\n",
       "    }\n",
       "\n",
       "    .dataframe thead th {\n",
       "        text-align: right;\n",
       "    }\n",
       "</style>\n",
       "<table border=\"1\" class=\"dataframe\">\n",
       "  <thead>\n",
       "    <tr style=\"text-align: right;\">\n",
       "      <th></th>\n",
       "      <th>city</th>\n",
       "      <th>Cloudiness</th>\n",
       "      <th>Country</th>\n",
       "      <th>Date</th>\n",
       "      <th>Humidity</th>\n",
       "      <th>Lat</th>\n",
       "      <th>Lng</th>\n",
       "      <th>Max Temp</th>\n",
       "      <th>Wind Speed</th>\n",
       "    </tr>\n",
       "  </thead>\n",
       "  <tbody>\n",
       "    <tr>\n",
       "      <th>0</th>\n",
       "      <td>rocha</td>\n",
       "      <td>NaN</td>\n",
       "      <td>NaN</td>\n",
       "      <td>NaN</td>\n",
       "      <td>NaN</td>\n",
       "      <td>NaN</td>\n",
       "      <td>NaN</td>\n",
       "      <td>NaN</td>\n",
       "      <td>NaN</td>\n",
       "    </tr>\n",
       "    <tr>\n",
       "      <th>1</th>\n",
       "      <td>egvekinot</td>\n",
       "      <td>NaN</td>\n",
       "      <td>NaN</td>\n",
       "      <td>NaN</td>\n",
       "      <td>NaN</td>\n",
       "      <td>NaN</td>\n",
       "      <td>NaN</td>\n",
       "      <td>NaN</td>\n",
       "      <td>NaN</td>\n",
       "    </tr>\n",
       "    <tr>\n",
       "      <th>2</th>\n",
       "      <td>mataura</td>\n",
       "      <td>NaN</td>\n",
       "      <td>NaN</td>\n",
       "      <td>NaN</td>\n",
       "      <td>NaN</td>\n",
       "      <td>NaN</td>\n",
       "      <td>NaN</td>\n",
       "      <td>NaN</td>\n",
       "      <td>NaN</td>\n",
       "    </tr>\n",
       "    <tr>\n",
       "      <th>3</th>\n",
       "      <td>khartoum</td>\n",
       "      <td>NaN</td>\n",
       "      <td>NaN</td>\n",
       "      <td>NaN</td>\n",
       "      <td>NaN</td>\n",
       "      <td>NaN</td>\n",
       "      <td>NaN</td>\n",
       "      <td>NaN</td>\n",
       "      <td>NaN</td>\n",
       "    </tr>\n",
       "    <tr>\n",
       "      <th>4</th>\n",
       "      <td>vila do maio</td>\n",
       "      <td>NaN</td>\n",
       "      <td>NaN</td>\n",
       "      <td>NaN</td>\n",
       "      <td>NaN</td>\n",
       "      <td>NaN</td>\n",
       "      <td>NaN</td>\n",
       "      <td>NaN</td>\n",
       "      <td>NaN</td>\n",
       "    </tr>\n",
       "  </tbody>\n",
       "</table>\n",
       "</div>"
      ],
      "text/plain": [
       "           city  Cloudiness  Country  Date  Humidity  Lat  Lng  Max Temp  \\\n",
       "0         rocha         NaN      NaN   NaN       NaN  NaN  NaN       NaN   \n",
       "1     egvekinot         NaN      NaN   NaN       NaN  NaN  NaN       NaN   \n",
       "2       mataura         NaN      NaN   NaN       NaN  NaN  NaN       NaN   \n",
       "3      khartoum         NaN      NaN   NaN       NaN  NaN  NaN       NaN   \n",
       "4  vila do maio         NaN      NaN   NaN       NaN  NaN  NaN       NaN   \n",
       "\n",
       "   Wind Speed  \n",
       "0         NaN  \n",
       "1         NaN  \n",
       "2         NaN  \n",
       "3         NaN  \n",
       "4         NaN  "
      ]
     },
     "execution_count": 6,
     "metadata": {},
     "output_type": "execute_result"
    }
   ],
   "source": [
    "# Add columns to cities dataframe\n",
    "cities_df[\"Cloudiness\"] = np.nan\n",
    "cities_df[\"Country\"] = np.nan\n",
    "cities_df[\"Date\"] = np.nan\n",
    "cities_df[\"Humidity\"] = np.nan\n",
    "cities_df[\"Lat\"] = np.nan\n",
    "cities_df[\"Lng\"] = np.nan\n",
    "cities_df[\"Max Temp\"] = np.nan\n",
    "cities_df[\"Wind Speed\"] = np.nan\n",
    "cities_df.head()"
   ]
  },
  {
   "cell_type": "markdown",
   "metadata": {},
   "source": [
    "## Perform API Calls\n",
    "-  Perform a weather check on each city using a series of successive API calls.\n",
    "-  Include a print log of each city as it's being processed (with the city number and city name)."
   ]
  },
  {
   "cell_type": "code",
   "execution_count": null,
   "metadata": {},
   "outputs": [
    {
     "name": "stdout",
     "output_type": "stream",
     "text": [
      "Beginning Data Retrieval\n",
      "___________________________\n",
      "Retrieving Results for Index 0: rocha\n",
      "Processing Record 0 | rocha\n",
      "Retrieving Results for Index 1: egvekinot\n",
      "Processing Record 1 | egvekinot\n",
      "Retrieving Results for Index 2: mataura\n",
      "Processing Record 2 | mataura\n",
      "Retrieving Results for Index 3: khartoum\n",
      "Processing Record 3 | khartoum\n",
      "Retrieving Results for Index 4: vila do maio\n",
      "Processing Record 4 | vila do maio\n",
      "Retrieving Results for Index 5: ushuaia\n",
      "Processing Record 5 | ushuaia\n",
      "Retrieving Results for Index 6: waipawa\n",
      "Processing Record 6 | waipawa\n",
      "Retrieving Results for Index 7: bredasdorp\n",
      "Processing Record 7 | bredasdorp\n",
      "Retrieving Results for Index 8: cape town\n",
      "Processing Record 8 | cape town\n",
      "Retrieving Results for Index 9: flin flon\n",
      "Processing Record 9 | flin flon\n",
      "Retrieving Results for Index 10: rawson\n",
      "Processing Record 10 | rawson\n",
      "Retrieving Results for Index 11: sabang\n",
      "Processing Record 11 | sabang\n",
      "Retrieving Results for Index 12: necochea\n",
      "Processing Record 12 | necochea\n",
      "Retrieving Results for Index 13: teguldet\n"
     ]
    }
   ],
   "source": [
    "# Save config information\n",
    "print(\"Beginning Data Retrieval\")\n",
    "print(\"___________________________\")\n",
    "\n",
    "base_url = \"http://api.openweathermap.org/data/2.5/weather?\"\n",
    "units = \"Imperial\"\n",
    "query_url = base_url + \"appid=\" + api_key + \"&units=\" + units + \"&q=\"\n",
    "\n",
    "# Use iterrows to loop through dataframe using the city name\n",
    "\n",
    "for index, row in cities_df.iterrows():\n",
    "    city = row[\"city\"]\n",
    "    print(f\"Retrieving Results for Index {index}: {city}\")\n",
    "    response = requests.get(query_url + city).json()\n",
    "    \n",
    "    try:      \n",
    "        cities_df.loc[index,\"Cloudiness\"] = response[\"clouds\"][\"all\"]\n",
    "        cities_df.loc[index, \"Country\"] = response[\"sys\"][\"country\"]\n",
    "        cities_df.loc[index, \"Date\"] = response[\"dt\"]\n",
    "        cities_df.loc[index, \"Humidity\"]= response[\"main\"][\"humidity\"]\n",
    "        cities_df.loc[index, \"Lat\"] = response[\"coord\"][\"lat\"]\n",
    "        cities_df.loc[index, \"Lng\"] = response[\"coord\"][\"lon\"]\n",
    "        cities_df.loc[index, \"Max Temp\"] = response[\"main\"][\"temp_max\"]\n",
    "        cities_df.loc[index, \"Wind Speed\"] = response[\"wind\"][\"speed\"]\n",
    "        \n",
    "        print(f\"Processing Record {index} | {city}\")\n",
    "        \n",
    "    except (KeyError, IndexError):\n",
    "        print(\"City not found...Skipping.\")"
   ]
  },
  {
   "cell_type": "code",
   "execution_count": null,
   "metadata": {},
   "outputs": [],
   "source": [
    "# Confirm API call data has been entered into the dataframe\n",
    "cities_df.head()"
   ]
  },
  {
   "cell_type": "code",
   "execution_count": null,
   "metadata": {},
   "outputs": [],
   "source": [
    "#Figure out what kind of data is being held in each column\n",
    "cities_df.dtypes"
   ]
  },
  {
   "cell_type": "code",
   "execution_count": null,
   "metadata": {},
   "outputs": [],
   "source": [
    "# Convert Date from Epoch time to Date Time \n",
    "#cities_df[\"Date\"] = cities_df[\"Date\"].to_datetime(unit='s')"
   ]
  },
  {
   "cell_type": "code",
   "execution_count": null,
   "metadata": {},
   "outputs": [],
   "source": [
    "# Export dataframe to csv file\n",
    "output_data_file = cities_df.to_csv(r\"cities.csv\")"
   ]
  },
  {
   "cell_type": "markdown",
   "metadata": {},
   "source": [
    "## Latitude vs. Temperature Plot"
   ]
  },
  {
   "cell_type": "code",
   "execution_count": null,
   "metadata": {},
   "outputs": [],
   "source": [
    "cities_df.count()"
   ]
  },
  {
   "cell_type": "code",
   "execution_count": null,
   "metadata": {},
   "outputs": [],
   "source": [
    "cities_df.plot.scatter(x ='Lat', y ='Max Temp', marker = \"o\", \n",
    "               facecolors = \"red\", edgecolors = \"black\", alpha = 0.65)\n",
    "\n",
    "plt.grid(True)\n",
    "plt.title(\"City Latitude Versus Max Temperature (8/29/19)\", size= 20)\n",
    "plt.xlabel(\"Latitude\", size = 15)\n",
    "plt.ylabel(\"Max Temperature (F)\", size = 15)\n",
    "plt.savefig(\"../Images/latitude.png\")"
   ]
  },
  {
   "cell_type": "markdown",
   "metadata": {},
   "source": [
    "## Latitude vs. Humidity Plot"
   ]
  },
  {
   "cell_type": "code",
   "execution_count": null,
   "metadata": {},
   "outputs": [],
   "source": [
    "cities_df.plot.scatter(x =\"Lat\", y =\"Humidity\", marker = \"o\", \n",
    "               facecolors = \"coral\", edgecolors = \"black\", alpha = 0.65)\n",
    "\n",
    "plt.grid(True)\n",
    "plt.title(\"City Latitude Versus Humidity (8/29/19)\", size= 20)\n",
    "plt.xlabel(\"Latitude\", size = 15)\n",
    "plt.ylabel(\"Humidity (%)\", size = 15) \n",
    "plt.savefig(\"../Images/humidity.png\")"
   ]
  },
  {
   "cell_type": "markdown",
   "metadata": {},
   "source": [
    "## Latitude vs. Cloudiness Plot"
   ]
  },
  {
   "cell_type": "code",
   "execution_count": null,
   "metadata": {},
   "outputs": [],
   "source": [
    "cities_df.plot.scatter(x =\"Lat\", y =\"Cloudiness\", marker = \"o\", \n",
    "               facecolors = \"coral\", edgecolors = \"black\", alpha = 0.65)\n",
    "\n",
    "plt.grid(True)\n",
    "plt.title(\"City Latitude Versus Cloudiness (%) (8/29/19)\", size= 20)\n",
    "plt.xlabel(\"Latitude\", size = 15)\n",
    "plt.ylabel(\"Cloudiness (%)\", size = 15)\n",
    "plt.savefig(\"../Images/cloudiness.png\")"
   ]
  },
  {
   "cell_type": "markdown",
   "metadata": {},
   "source": [
    "## Latitude vs. Wind Speed Plot"
   ]
  },
  {
   "cell_type": "code",
   "execution_count": 92,
   "metadata": {},
   "outputs": [
    {
     "data": {
      "text/plain": [
       "Text(0, 0.5, 'Windspeed (mph)')"
      ]
     },
     "execution_count": 92,
     "metadata": {},
     "output_type": "execute_result"
    },
    {
     "data": {
      "image/png": "[encoded data removed]",
      "text/plain": [
       "<Figure size 432x288 with 1 Axes>"
      ]
     },
     "metadata": {
      "needs_background": "light"
     },
     "output_type": "display_data"
    }
   ],
   "source": [
    "cities_df.plot.scatter(x =\"Lat\", y =\"Wind Speed\", marker = \"o\", \n",
    "               facecolors = \"coral\", edgecolors = \"black\", alpha = 0.65)\n",
    "\n",
    "plt.grid(True)\n",
    "plt.title(\"City Latitude Wind Speed (mph) (8/29/19)\", size= 20)\n",
    "plt.xlabel(\"Latitude\", size = 15)\n",
    "plt.ylabel(\"Windspeed (mph)\", size = 15)"
   ]
  },
  {
   "cell_type": "code",
   "execution_count": null,
   "metadata": {},
   "outputs": [],
   "source": []
  }
 ],
 "metadata": {
  "kernelspec": {
   "display_name": "Python 3",
   "language": "python",
   "name": "python3"
  },
  "language_info": {
   "codemirror_mode": {
    "name": "ipython",
    "version": 3
   },
   "file_extension": ".py",
   "mimetype": "text/x-python",
   "name": "python",
   "nbconvert_exporter": "python",
   "pygments_lexer": "ipython3",
   "version": "3.7.3"
  }
 },
 "nbformat": 4,
 "nbformat_minor": 2
}
